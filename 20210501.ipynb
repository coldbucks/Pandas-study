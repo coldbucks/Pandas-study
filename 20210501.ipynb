{
 "cells": [
  {
   "cell_type": "code",
   "execution_count": 4,
   "metadata": {},
   "outputs": [
    {
     "name": "stdout",
     "output_type": "stream",
     "text": [
      "    나이 성별   학교\n",
      "준서  15  남  덕영중\n",
      "예은  17  여  수리중\n"
     ]
    }
   ],
   "source": [
    "# -*- coding: utf -*-\n",
    "import pandas as pd \n",
    "\n",
    "df = pd.DataFrame([[15, '남', '덕영중'],[17, '여', '수리중']],\n",
    "                  index=['준서','예은'],\n",
    "                  columns=['나이','성별','학교'])\n",
    "\n",
    "# 행 인덱스, 열 이름 확인하기\n",
    "\n",
    "print(df)"
   ]
  },
  {
   "cell_type": "code",
   "execution_count": 5,
   "metadata": {},
   "outputs": [
    {
     "name": "stdout",
     "output_type": "stream",
     "text": [
      "Index(['준서', '예은'], dtype='object')\n"
     ]
    }
   ],
   "source": [
    "print(df.index)"
   ]
  },
  {
   "cell_type": "code",
   "execution_count": 6,
   "metadata": {},
   "outputs": [
    {
     "name": "stdout",
     "output_type": "stream",
     "text": [
      "Index(['나이', '성별', '학교'], dtype='object')\n"
     ]
    }
   ],
   "source": [
    "print(df.columns)"
   ]
  },
  {
   "cell_type": "code",
   "execution_count": 7,
   "metadata": {},
   "outputs": [],
   "source": [
    "# 리스트를 원소로 갖는 딕셔너리를 이용했 때는 리스트가 열이 된다\n",
    "#  2차원 배열의 형태의 데이터의 리스트는 [행]으러 변환된다는 거!"
   ]
  },
  {
   "cell_type": "code",
   "execution_count": 8,
   "metadata": {},
   "outputs": [
    {
     "name": "stdout",
     "output_type": "stream",
     "text": [
      "     연령 남녀   소속\n",
      "학생1  15  남  덕영중\n",
      "학생2  17  여  수리중\n"
     ]
    }
   ],
   "source": [
    "df.index=['학생1','학생2']\n",
    "df.columns=['연령','남녀','소속']\n",
    "\n",
    "print(df)"
   ]
  },
  {
   "cell_type": "code",
   "execution_count": 10,
   "metadata": {},
   "outputs": [
    {
     "name": "stdout",
     "output_type": "stream",
     "text": [
      "Index(['학생1', '학생2'], dtype='object')\n"
     ]
    }
   ],
   "source": [
    "print(df.index)"
   ]
  },
  {
   "cell_type": "code",
   "execution_count": 11,
   "metadata": {},
   "outputs": [
    {
     "name": "stdout",
     "output_type": "stream",
     "text": [
      "Index(['연령', '남녀', '소속'], dtype='object')\n"
     ]
    }
   ],
   "source": [
    "print(df.columns)"
   ]
  },
  {
   "cell_type": "code",
   "execution_count": 12,
   "metadata": {},
   "outputs": [
    {
     "name": "stdout",
     "output_type": "stream",
     "text": [
      "    나이 성별   학교\n",
      "준서  15  남  덕영중\n",
      "예은  17  여  수리중\n"
     ]
    }
   ],
   "source": [
    "# -*- coding: utf -*-\n",
    "import pandas as pd \n",
    "\n",
    "df = pd.DataFrame([[15, '남', '덕영중'],[17, '여', '수리중']],\n",
    "                  index=['준서','예은'],\n",
    "                  columns=['나이','성별','학교'])\n",
    "\n",
    "# 행 인덱스, 열 이름 확인하기\n",
    "\n",
    "print(df)"
   ]
  },
  {
   "cell_type": "code",
   "execution_count": 14,
   "metadata": {},
   "outputs": [],
   "source": [
    "df.rename(columns={'나이':'연령','성별':'남녀','학교':'소속'}, inplace=True)"
   ]
  },
  {
   "cell_type": "code",
   "execution_count": 16,
   "metadata": {},
   "outputs": [],
   "source": [
    "df.rename(index={'준서':'학생1','예은':'학생2'}, inplace=True)"
   ]
  },
  {
   "cell_type": "code",
   "execution_count": 17,
   "metadata": {},
   "outputs": [
    {
     "name": "stdout",
     "output_type": "stream",
     "text": [
      "     연령 남녀   소속\n",
      "학생1  15  남  덕영중\n",
      "학생2  17  여  수리중\n"
     ]
    }
   ],
   "source": [
    "print(df)"
   ]
  },
  {
   "cell_type": "code",
   "execution_count": null,
   "metadata": {},
   "outputs": [],
   "source": []
  }
 ],
 "metadata": {
  "kernelspec": {
   "display_name": "Python 3",
   "language": "python",
   "name": "python3"
  },
  "language_info": {
   "codemirror_mode": {
    "name": "ipython",
    "version": 3
   },
   "file_extension": ".py",
   "mimetype": "text/x-python",
   "name": "python",
   "nbconvert_exporter": "python",
   "pygments_lexer": "ipython3",
   "version": "3.7.6"
  }
 },
 "nbformat": 4,
 "nbformat_minor": 4
}
